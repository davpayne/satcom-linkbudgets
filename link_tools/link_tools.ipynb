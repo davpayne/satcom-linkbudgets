{
 "cells": [
  {
   "cell_type": "markdown",
   "metadata": {},
   "source": [
    "# Link Tools\n",
    "Designed for free space radio (RF) and optical communications\n",
    "\n",
    "This is the jupyter notebook version for use for easy testing"
   ]
  },
  {
   "cell_type": "code",
   "execution_count": 57,
   "metadata": {},
   "outputs": [],
   "source": [
    "import numpy as np\n",
    "import math\n",
    "import re # To be used for accepting more diverse input. Not impelemented at moment"
   ]
  },
  {
   "cell_type": "code",
   "execution_count": 58,
   "metadata": {},
   "outputs": [],
   "source": [
    "def watts_to_dBW(value_in_watts):\n",
    "    if (value_in_watts == 0):\n",
    "        return 0\n",
    "    else:\n",
    "        return 10.0*math.log(value_in_watts)\n",
    "\n",
    "def dBW_to_watts(value_in_dBW):\n",
    "    return 10.0**(value_in_dBW/10.0)\n",
    "\n",
    "def dBW_to_dBm(value_in_dBW):\n",
    "    return value_in_dBW + 30.0\n",
    "\n",
    "def ERP_to_EIRP_dBW(value_in_ERP):\n",
    "    return value_in_ERP + 2.15\n",
    "\n",
    "def EIRP_to_ERP_dBW(value_in_EIRP):\n",
    "    return value_in_EIRP - 2.15\n",
    "\n",
    "def bps_to_dBHz(value_in_bps):\n",
    "    return 10.0*math.log10(value_in_bps)\n",
    "\n",
    "def free_space_path_loss(distance_m, frequency_hz):\n",
    "    return 20.0*math.log10(distance_m) + 20.0 * math.log10(frequency_hz) + 20.0 * math.log10(4*np.pi/3e8)\n",
    "\n",
    "def frequency_converter(frequency, desired_unit=\"hertz\"):\n",
    "    # Take the input, convert to desired unit\n",
    "    # Unimplemented\n",
    "    \n",
    "    prefix_conversion_factors = {\n",
    "        'yocto': 0.000000000000000000000001,\n",
    "        'zepto': 0.000000000000000000001,\n",
    "        'atto': 0.000000000000000001,\n",
    "        'femto':  0.000000000000001,\n",
    "        'pico': 0.000000000001,\n",
    "        'nano': 0.000000001,\n",
    "        'micro': 0.000001,\n",
    "        'milli': 0.001,\n",
    "        'centi': 0.01,\n",
    "        'deci': 0.1,\n",
    "        'base': 1.0,\n",
    "        'deca': 10,\n",
    "        'hecto': 100,\n",
    "        'kilo': 1000,\n",
    "        'mega': 100000,\n",
    "        'giga': 1000000000,\n",
    "        'tera': 1000000000000,\n",
    "        'peta': 1000000000000000,\n",
    "        'exa' : 1000000000000000000,\n",
    "        'zetta' : 1000000000000000000000,\n",
    "        'yotto' : 1000000000000000000000000\n",
    "    }\n",
    "    pass\n",
    "\n",
    "def angle_converter(angle, desired_unit=\"radians\"):\n",
    "    # Take the input, convert to desired unit\n",
    "    # Unimplemented\n",
    "    pass\n",
    "def distance_converter(distance, desired_unit=\"meters\"):\n",
    "    # Take the input, convert to desired unit\n",
    "    # Unimplemented\n",
    "    pass"
   ]
  },
  {
   "cell_type": "code",
   "execution_count": 59,
   "metadata": {},
   "outputs": [],
   "source": [
    "bodies_to_orbit = {\n",
    "    \"Earth\" : {\n",
    "        \"units\" : \"kg,km\",\n",
    "        \"mass\" : 5.9722 * (10**24),\n",
    "        \"radius\" : 6378.17\n",
    "    },\n",
    "    \"Moon\" : {\n",
    "        \"units\": \"kg,km\",\n",
    "        \"mass\" : 7.342 * (10**22),\n",
    "        \"radius\" : 1737.4\n",
    "    },\n",
    "    \"Mars\" : {\n",
    "        \"units\": \"kg,km\",\n",
    "        \"mass\" : 6.4171 * (10**23),\n",
    "        \"radius\" : 3389.5\n",
    "    },\n",
    "    \"Venus\" : {\n",
    "        \"units\": \"kg,km\",\n",
    "        \"mass\" : 4.8675 * (10**23),\n",
    "        \"radius\" : 6051.8\n",
    "    }\n",
    "}"
   ]
  },
  {
   "cell_type": "code",
   "execution_count": 60,
   "metadata": {},
   "outputs": [],
   "source": [
    "class antenna():\n",
    "    \"\"\"\n",
    "    Holds information for antennas.\n",
    "    \n",
    "    Inputs:\n",
    "    * The peak gain of the antenna. Gain is how focused the energy is \n",
    "        (e.g. fire-hose vs. water balloon)\n",
    "    * The polarization of the antenna. At the moment the effect of polarization alignment is not\n",
    "        factored in\n",
    "    \n",
    "    Possible enhancements:\n",
    "    * Including a radiation pattern parameter\n",
    "    \n",
    "    \"\"\"\n",
    "    \n",
    "    def __init__(self, \n",
    "                 peak_gain = None, \n",
    "                 polarization = None):\n",
    "        self.antenna_gain = peak_gain if peak_gain is not None else 0 # dB\n",
    "        self.polarization = polarization if polarization is not None else 'Omni'"
   ]
  },
  {
   "cell_type": "code",
   "execution_count": 61,
   "metadata": {},
   "outputs": [],
   "source": [
    "defaults = {\n",
    "    'antenna' : antenna(),\n",
    "    'device_name' : \"test\",\n",
    "    'tracking' : False,\n",
    "    'output_power_dBW' : 0,\n",
    "    'transmission_line_loss' : - 1.0,\n",
    "    'switch_loss' : - 0.2,\n",
    "    'pointing_loss' : -0.4,\n",
    "    'polarization_loss' : - 3.5,\n",
    "    'radome_loss' : 0,\n",
    "    'LNA_noise_temp' : 100,\n",
    "    'transmission_line_temp' : 290,\n",
    "    'sky_temp' : 275,\n",
    "    'minimum_rx_SNR' : 15.9,\n",
    "    'path_loss' : 153,\n",
    "    'atmospheric_loss' : - 2.1,\n",
    "    'rain_loss' : 0,\n",
    "    'ionospheric_loss' : - 0.35,\n",
    "    'frequency' : 400e6, # Hertz\n",
    "    'bandwidth' : 40e3,\n",
    "    'desired_data_rate_bps' : 38400,\n",
    "    'orbit_name' : 'default',\n",
    "    'satellite_mass' : 0,\n",
    "    'apoapsis_height' : 400, # kilometers\n",
    "    'periapsis_height' : None,\n",
    "    'body_orbited_name' : 'Earth',\n",
    "    'path_distance' : 400e3 # meters\n",
    "}\n",
    "\n",
    "gravitational_constant = 6.674 * (10**-11) # N*m^2/kg^2 \n",
    "gravitational_constant_km = gravitational_constant * (10**-9)\n",
    "boltzmann_constant = -228.6 # dBW/K/Hz"
   ]
  },
  {
   "cell_type": "code",
   "execution_count": 62,
   "metadata": {},
   "outputs": [],
   "source": [
    "class comm_device():\n",
    "    \"\"\"\n",
    "    Base class for communication devices, both optical and RF\n",
    "    \n",
    "    Inputs:\n",
    "    * Name - Any string to label the device\n",
    "    * Output Power in dBW - For the calculations, must be given in dBW\n",
    "    \n",
    "    Possible enhancements:\n",
    "    * Allow for any output power unit\n",
    "    \n",
    "    \"\"\"\n",
    "    def __init__(self,\n",
    "                name = None,\n",
    "                output_power_dBW = None):\n",
    "        self.name = name if name is not None else \"undefined\"\n",
    "        self.output_power_dBW = output_power_dBW if output_power_dBW is not None else 0"
   ]
  },
  {
   "cell_type": "code",
   "execution_count": 63,
   "metadata": {},
   "outputs": [],
   "source": [
    "class optical_device(comm_device):\n",
    "    \"\"\"\n",
    "    Optical/Laser devices are generally defined by different terms than their RF\n",
    "        counterparts. This relies on base characteristics of a comm device.\n",
    "        \n",
    "    Inputs:\n",
    "    * Name. Passed to comm device super class.\n",
    "    * Output Power. Passed to comm device super class.\n",
    "    * Wavelength. Assummed given in nanometers. For reference, visible light is ~400-700nm\n",
    "    * Beam Divergence. How much does the beam spread. Could use 1/e or 1/e^2\n",
    "    * Waist diameter. Aka the exit port diameter. Basically how big is the hole the light\n",
    "        comes out of \n",
    "        \n",
    "    Internal methods:\n",
    "    * Calculate power density. Done at a certain distance. As the beam travels, it'll spread out\n",
    "        by the beam divergence. Farther from the exit port, less power density. This is key for\n",
    "        laser safety calculations. Assumeds free-space and ignores cloud, etc. attenuations\n",
    "    \n",
    "    * Calculate spot size. Done at a certain distance. Utilized in power density calculations.\n",
    "        Beam will spread over distance, this calculates the size of that spread at a certain\n",
    "        distance. \n",
    "    \n",
    "    \"\"\"\n",
    "    \n",
    "    def __init__(self,\n",
    "                name = None,\n",
    "                output_power_dBW = None,\n",
    "                wavelength = None,\n",
    "                beam_divergence = None, # In radians\n",
    "                waist_diameter = None\n",
    "                ):\n",
    "        super().__init__(name, output_power_dBW)\n",
    "        self.wavelength = wavelength if wavelength is not None else 1550e-9 # nanometers\n",
    "        self.beam_divergence = beam_divergence if beam_divergence is not None else 0\n",
    "        self.waist_diameter = waist_diameter if waist_diameter is not None else 0\n",
    "        \n",
    "    def calculate_power_density(self, distance_in_km):\n",
    "        spot_size = calculate_spot_size(distance_in_km)\n",
    "        power_density = dBW_to_watts(self.output_power_dBW)/spot_size\n",
    "        return power_density\n",
    "    \n",
    "    def calculate_spot_size(self, distance_in_km):\n",
    "        # Spot diameter uses Diameter_at_target = diameter_at_exit + 2*\n",
    "        # (distance_to_target*tangent(beam_divergence/2))\n",
    "        spot_diameter = self.waist_diameter + 2*(distance_in_km*1000 * math.tan(self.beam_divergence/2))\n",
    "        spot_size = np.pi*((spot_diameter/2)**2)\n",
    "        return spot_size "
   ]
  },
  {
   "cell_type": "code",
   "execution_count": 64,
   "metadata": {},
   "outputs": [],
   "source": [
    "class rf_device(comm_device):\n",
    "    \"\"\"\n",
    "    RF devices are generally defined by different terms than their laser/optical\n",
    "        counterparts. This relies on base characteristics of a comm device.\n",
    "        \n",
    "    Inputs:\n",
    "    * Name. Passed to comm device super class.\n",
    "    * Output Power. Passed to comm device super class.\n",
    "    * Antenna. Pass in an instance of the antenna class.\n",
    "    * Tracking. Does the device try to keep pointing towards a receiver during communication\n",
    "    * Losses:\n",
    "        Transmission Line Loss. How much noise is there in the transmission line (in dB)\n",
    "        Switch Loss.\n",
    "        Pointing Loss. Any inherent/expected inaccuracy in the pointing of the antenna\n",
    "        Polarization Loss. Can be calculated based on receiver+transmitter polarization.\n",
    "            Assumed it is given in dB at this point.\n",
    "        Radome Loss.\n",
    "    * Temperatures: (Higher temp indicates higher noise floor)\n",
    "        LNA Noise Temp\n",
    "        Transmission Line Temp\n",
    "        Sky Temp\n",
    "    * Minimum SNR. SNR = signal-to-noise. Basically how much stronger does the sent signal\n",
    "        need to be than the noise floor. This is generally set by signal processing scheme\n",
    "        and rule-of-thumb buffer. \n",
    "        \n",
    "    Internal methods:\n",
    "    * Calculate characertistics. There are a few characteristics that are caclulated from inputs\n",
    "        This method captures all of those. Performed at initialization. Can be called again\n",
    "        if inputs change.\n",
    "    \n",
    "    * Set antenna. Can be used to swap out antennas\n",
    "    \n",
    "    \"\"\"\n",
    "    def __init__(self,\n",
    "                 name = None,\n",
    "                 output_power_dBW = None,\n",
    "                 antenna = None,\n",
    "                 tracking = None,\n",
    "                 transmission_line_loss = None,\n",
    "                 switch_loss = None,\n",
    "                 pointing_loss = None,\n",
    "                 polarization_loss = None,\n",
    "                 radome_loss = None,\n",
    "                 LNA_noise_temp = None,\n",
    "                 transmission_line_temp = None,\n",
    "                 sky_temp = None,\n",
    "                 minimum_rx_SNR = None\n",
    "                ):\n",
    "        \n",
    "        super().__init__(name, output_power_dBW)\n",
    "        \n",
    "        # Characteristics\n",
    "        self.antenna = antenna\n",
    "        self.tracking = tracking if tracking is not None else False # Does the device track its target via antenna or device pointing\n",
    "\n",
    "        self.transmission_line_loss = transmission_line_loss if transmission_line_loss is not None else 0\n",
    "        self.switch_loss = switch_loss if switch_loss is not None else 0\n",
    "\n",
    "        self.pointing_loss = pointing_loss if pointing_loss is not None else 0\n",
    "        self.polarization_loss = polarization_loss if polarization_loss is not None else 0\n",
    "        self.radome_loss = radome_loss if radome_loss is not None else 0\n",
    "        self.LNA_noise_temp = LNA_noise_temp if LNA_noise_temp is not None else 100\n",
    "        self.transmission_line_temp = transmission_line_temp if transmission_line_temp is not None else 290\n",
    "        self.sky_temp = sky_temp if sky_temp is not None else 275\n",
    "        self.minimum_rx_SNR = minimum_rx_SNR if minimum_rx_SNR is not None else 1\n",
    "        \n",
    "        self.calculate_characteristics()\n",
    "             \n",
    "    def calculate_characteristics(self):\n",
    "        self.transmission_line_coeff = 10**(self.transmission_line_loss/10)\n",
    "        self.effective_noise_temp = ((self.transmission_line_coeff * self.sky_temp) +\n",
    "                                     (1 - self.transmission_line_coeff) * self.transmission_line_temp +\n",
    "                                     self.LNA_noise_temp)\n",
    "        if (self.antenna == None):\n",
    "            self.EIRP_dBW = None\n",
    "            self.G_over_T = None\n",
    "            print(\"Warning: No antenna attached. Antenna dependent characteristics left undefined.\")\n",
    "        else:\n",
    "            self.G_over_T = (self.radome_loss + self.antenna.antenna_gain + self.transmission_line_loss -\n",
    "                            10*math.log10(self.effective_noise_temp))\n",
    "            self.EIRP_dBW = (self.output_power_dBW + self.transmission_line_loss + \n",
    "                             self.switch_loss + self.antenna.antenna_gain)\n",
    "\n",
    "    def set_antenna(self, antenna):\n",
    "        self.antenna = antenna\n",
    "        self.calculate_characteristics()        "
   ]
  },
  {
   "cell_type": "code",
   "execution_count": 65,
   "metadata": {},
   "outputs": [],
   "source": [
    "class message():\n",
    "    \"\"\"\n",
    "    This refers to the proposed content of the signal. For the moment, this is soley for RF\n",
    "        \n",
    "    Inputs:\n",
    "    * Desired Data Rate BPS. In bits-per-second. The higher the BPS, the more \n",
    "        sensitive the transmission\n",
    "    * Frequency. This is the electromagnetic frequency of the message, e.g. 400 MHz\n",
    "    * Bandwidth. Essentially, how much frequency can the signal be spread out over. \n",
    "        \n",
    "    Internal methods:\n",
    "    * Calculate characertistics. This is a general method name used to caclulate certain things\n",
    "        based off inputs. \n",
    "    \"\"\"\n",
    "        \n",
    "    def __init__(self,\n",
    "                desired_data_rate_bps = None,\n",
    "                frequency = None,\n",
    "                bandwidth = None):\n",
    "        self.desired_data_rate_bps = desired_data_rate_bps if desired_data_rate_bps is not None else 0\n",
    "        self.frequency = frequency if frequency is not None else 0\n",
    "        self.bandwidth = bandwidth if bandwidth is not None else 0\n",
    "        \n",
    "        self.calculate_characteristics()\n",
    "    \n",
    "    def calculate_characteristics(self):\n",
    "        self.desired_data_rate_dBHz = bps_to_dBHz(self.desired_data_rate_bps)"
   ]
  },
  {
   "cell_type": "code",
   "execution_count": 66,
   "metadata": {},
   "outputs": [],
   "source": [
    "class path():\n",
    "    \"\"\"\n",
    "    This refers to the proposed path of the signal. For example, sending the signal through\n",
    "        a cloudy sky vs. free space will lead to a lot more loss\n",
    "        \n",
    "    Inputs:\n",
    "    * Atmospheric loss. More clouds or turbulence leads to more loss\n",
    "    * Ionospheric loss.\n",
    "    * Rain loss. If there is rain, this will lead to losses. Generally assume a certain level\n",
    "    * Path distance. How far is the signal travelling\n",
    "        \n",
    "    Internal methods:\n",
    "    * Calculate budget. This calculates the link budget based on a given device transmitting,\n",
    "        receiving device, message, and path. \n",
    "    * Calculate power density. Note this does the equivalent to the optical power density but\n",
    "        bases spread on idealized omni-directional spread as opposed to on beam divergence\n",
    "    \n",
    "    Possible enhancements:\n",
    "    * Be able to input a date, time, place or some other parameter to then pull associated losses\n",
    "    * Link this closer to satellite orbit so that path distance varies over course of a pass\n",
    "    * Make more applicable to both optical and RF\n",
    "    \"\"\"\n",
    "    \n",
    "    def __init__(self, \n",
    "                 atmospheric_loss = None, \n",
    "                 ionospheric_loss = None, \n",
    "                 rain_loss = None,\n",
    "                 path_distance = None):\n",
    "        self.atmospheric_loss = atmospheric_loss if atmospheric_loss is not None else 0\n",
    "        self.ionospheric_loss = ionospheric_loss if ionospheric_loss is not None else 0\n",
    "        self.rain_loss = rain_loss if rain_loss is not None else 0\n",
    "        self.path_distance = path_distance if path_distance is not None else 0\n",
    "    \n",
    "    def calculate_budget(self, transmit_device, receive_device, message):\n",
    "        self.path_loss = free_space_path_loss(self.path_distance, message.frequency)\n",
    "        self.isotropic_signal_at_rx = (transmit_device.EIRP_dBW + \n",
    "                                       transmit_device.pointing_loss +\n",
    "                                       transmit_device.polarization_loss +\n",
    "                                       self.path_loss +\n",
    "                                       self.atmospheric_loss +\n",
    "                                       self.ionospheric_loss +\n",
    "                                       self.rain_loss)\n",
    "        self.rx_signal_to_noise_power_density = (self.isotropic_signal_at_rx +\n",
    "                                                receive_device.pointing_loss +\n",
    "                                                -boltzmann_constant +\n",
    "                                                receive_device.G_over_T)\n",
    "        self.power_at_LNA_receive = (isotropic_signal_at_rx +\n",
    "                                receive_device.pointing_loss +\n",
    "                                receive_device.radome_loss +\n",
    "                                receive_device.antenna_gain +\n",
    "                                receive_device.transmission_line_loss)\n",
    "        self.receive_noise_power = (boltzmann_constant + \n",
    "                                    10*math.log10(receive_device.effective_noise_temp) +\n",
    "                                   10*math.log10(message.bandwidth))\n",
    "        self.budget_SNR = self.rx_signal_to_noise_power_density - message.desired_data_rate_dBHz\n",
    "        self.link_margin = self.receive_noise_power - receive_device.minimum_rx_SNR\n",
    "        return self.link_margin\n",
    "        \n",
    "    def calculate_power_density(self, message, transmit_device):\n",
    "        self.path_loss = free_space_path_loss(self.path_distance, message.frequency)\n",
    "        self.power_density = ((dBW_to_watts(transmit_device.EIRP_dBW)) /\n",
    "                             (4.0 * np.pi * (self.path_distance**2)))\n",
    "        return self.power_density"
   ]
  },
  {
   "cell_type": "code",
   "execution_count": 67,
   "metadata": {},
   "outputs": [],
   "source": [
    "class satellite_orbit():\n",
    "    \"\"\"\n",
    "    This refers to orbit of a satellite. Able to be used for any inputted \n",
    "        body parameters (e.g. Earth, Moon, Mars)\n",
    "        \n",
    "    Inputs:\n",
    "    * Name. Used to provide some label for the orbit (e.g. ISS Orbit)\n",
    "    * Apoapsis Height. What's the farthest the satellite is from what it's orbiting. \n",
    "        Note: The Apo- prefix refers to farthest point. The suffix generally refers to the body\n",
    "        oribited. E.g. apogee is farthest point in an Earth orbit. -apsis suffix is general\n",
    "    * Periapsis Height. What's the closest the satellite is from what it's orbiting. \n",
    "    \n",
    "    Internal methods:\n",
    "    * Calculate characteristics. Used to calculate a few parameters based on inputs. Called\n",
    "        during initialization. Can be called again with any updates.\n",
    "    \n",
    "    Possible enhancements:\n",
    "    * Make general for a wider variety of orbits\n",
    "    \"\"\"\n",
    "    def __init__(self,\n",
    "                 name = None,\n",
    "                 apoapsis_height = None,\n",
    "                 periapsis_height = None,\n",
    "                 body_orbited_name = None,\n",
    "                 satellite_mass = None):\n",
    "        \n",
    "        self.name = name if name is not None else \"undefined\"\n",
    "        self.body_orbited_name = body_orbited_name if body_orbited_name is not None else \"Earth\"\n",
    "        self.body_orbited = bodies_to_orbit[self.body_orbited_name]\n",
    "        self.apoapsis_height = apoapsis_height if apoapsis_height is not None else 0\n",
    "        self.satellite_mass = satellite_mass if satellite_mass is not None else 0\n",
    "        self.periapsis_height = periapsis_height if periapsis_height is not None else self.apoapsis_height\n",
    "    \n",
    "        self.calculate_characteristics()\n",
    "        \n",
    "    def calculate_characteristics(self):\n",
    "        self.semi_major_axis = self.apoapsis_height + self.body_orbited['radius']\n",
    "        self.semi_minor_axis = self.periapsis_height + self.body_orbited['radius']\n",
    "        self.mean_altitude = (self.apoapsis_height+self.periapsis_height)/2\n",
    "        self.orbital_period = (2*np.pi) * np.sqrt(self.semi_major_axis**3/\n",
    "                                                  (gravitational_constant_km*(self.body_orbited[\"mass\"]+self.satellite_mass)))\n",
    "        self.eccentricity = (self.semi_major_axis-self.semi_minor_axis)/(self.semi_major_axis+self.semi_minor_axis)"
   ]
  },
  {
   "cell_type": "code",
   "execution_count": 68,
   "metadata": {},
   "outputs": [],
   "source": [
    "device1 = rf_device(\n",
    "                 name = defaults['device_name'],\n",
    "                 tracking = defaults['tracking'],\n",
    "                 antenna = defaults['antenna'],\n",
    "                 output_power_dBW = defaults['output_power_dBW'],\n",
    "                 transmission_line_loss = defaults['transmission_line_loss'],\n",
    "                 switch_loss = defaults['switch_loss'],\n",
    "                 pointing_loss = defaults['pointing_loss'],\n",
    "                 polarization_loss = defaults['polarization_loss'],\n",
    "                 radome_loss = defaults['radome_loss'],\n",
    "                 LNA_noise_temp = defaults['LNA_noise_temp'],\n",
    "                 transmission_line_temp = defaults['transmission_line_temp'],\n",
    "                 sky_temp = defaults['sky_temp'],\n",
    "                 minimum_rx_SNR = defaults['minimum_rx_SNR']\n",
    ")"
   ]
  },
  {
   "cell_type": "code",
   "execution_count": 69,
   "metadata": {},
   "outputs": [
    {
     "name": "stdout",
     "output_type": "stream",
     "text": [
      "test\n"
     ]
    }
   ],
   "source": [
    "print(device1.name)"
   ]
  },
  {
   "cell_type": "code",
   "execution_count": 70,
   "metadata": {},
   "outputs": [
    {
     "name": "stdout",
     "output_type": "stream",
     "text": [
      "-26.77589535519978\n"
     ]
    }
   ],
   "source": [
    "print(device1.G_over_T)"
   ]
  },
  {
   "cell_type": "markdown",
   "metadata": {},
   "source": [
    "-3.275895355199779"
   ]
  },
  {
   "cell_type": "code",
   "execution_count": 71,
   "metadata": {},
   "outputs": [],
   "source": [
    "device1.set_antenna(antenna(\n",
    "                 peak_gain = antenna_defaults['peak_gain'], \n",
    "                 polarization = antenna_defaults['polarization']))"
   ]
  },
  {
   "cell_type": "code",
   "execution_count": 72,
   "metadata": {},
   "outputs": [
    {
     "data": {
      "text/plain": [
       "<__main__.antenna at 0x7f84344c8510>"
      ]
     },
     "execution_count": 72,
     "metadata": {},
     "output_type": "execute_result"
    }
   ],
   "source": [
    "device1.antenna"
   ]
  },
  {
   "cell_type": "code",
   "execution_count": 73,
   "metadata": {},
   "outputs": [
    {
     "data": {
      "text/plain": [
       "-3.275895355199779"
      ]
     },
     "execution_count": 73,
     "metadata": {},
     "output_type": "execute_result"
    }
   ],
   "source": [
    "device1.G_over_T"
   ]
  },
  {
   "cell_type": "code",
   "execution_count": 74,
   "metadata": {},
   "outputs": [],
   "source": [
    "orbit1 = satellite_orbit(\n",
    "                 name = defaults['orbit_name'],\n",
    "                 apoapsis_height = defaults['apoapsis_height'],\n",
    "                 periapsis_height = defaults['periapsis_height'],\n",
    "                 body_orbited_name = defaults['body_orbited_name'],\n",
    "                 satellite_mass = defaults['satellite_mass'])"
   ]
  },
  {
   "cell_type": "code",
   "execution_count": 75,
   "metadata": {},
   "outputs": [
    {
     "data": {
      "text/plain": [
       "400"
      ]
     },
     "execution_count": 75,
     "metadata": {},
     "output_type": "execute_result"
    }
   ],
   "source": [
    "orbit1.periapsis_height"
   ]
  },
  {
   "cell_type": "code",
   "execution_count": 76,
   "metadata": {},
   "outputs": [
    {
     "data": {
      "text/plain": [
       "0.0"
      ]
     },
     "execution_count": 76,
     "metadata": {},
     "output_type": "execute_result"
    }
   ],
   "source": [
    "orbit1.eccentricity"
   ]
  },
  {
   "cell_type": "code",
   "execution_count": 77,
   "metadata": {},
   "outputs": [
    {
     "data": {
      "text/plain": [
       "92.56283333333334"
      ]
     },
     "execution_count": 77,
     "metadata": {},
     "output_type": "execute_result"
    }
   ],
   "source": [
    "5553.77/60"
   ]
  },
  {
   "cell_type": "code",
   "execution_count": 78,
   "metadata": {},
   "outputs": [
    {
     "data": {
      "text/plain": [
       "136.5241718391672"
      ]
     },
     "execution_count": 78,
     "metadata": {},
     "output_type": "execute_result"
    }
   ],
   "source": [
    "free_space_path_loss(400e3,400e6)"
   ]
  },
  {
   "cell_type": "code",
   "execution_count": 79,
   "metadata": {},
   "outputs": [],
   "source": [
    "test_path = path(\n",
    "                 atmospheric_loss = defaults['atmospheric_loss'], \n",
    "                 ionospheric_loss = defaults['ionospheric_loss'], \n",
    "                 rain_loss = defaults['rain_loss'],\n",
    "                 path_distance = defaults['path_distance'])"
   ]
  },
  {
   "cell_type": "code",
   "execution_count": 80,
   "metadata": {},
   "outputs": [],
   "source": [
    "test_message = message(desired_data_rate_bps = defaults['desired_data_rate_bps'],\n",
    "                frequency = defaults['frequency'],\n",
    "                bandwidth = defaults['bandwidth'])"
   ]
  },
  {
   "cell_type": "code",
   "execution_count": 81,
   "metadata": {},
   "outputs": [
    {
     "data": {
      "text/plain": [
       "8.446370995741295e-11"
      ]
     },
     "execution_count": 81,
     "metadata": {},
     "output_type": "execute_result"
    }
   ],
   "source": [
    "test_path.calculate_power_density(test_message, device1)"
   ]
  },
  {
   "cell_type": "code",
   "execution_count": 82,
   "metadata": {},
   "outputs": [
    {
     "data": {
      "text/plain": [
       "8.446370995741295e-11"
      ]
     },
     "execution_count": 82,
     "metadata": {},
     "output_type": "execute_result"
    }
   ],
   "source": [
    "test_path.power_density"
   ]
  },
  {
   "cell_type": "code",
   "execution_count": 83,
   "metadata": {},
   "outputs": [
    {
     "data": {
      "text/plain": [
       "22.3"
      ]
     },
     "execution_count": 83,
     "metadata": {},
     "output_type": "execute_result"
    }
   ],
   "source": [
    "device1.EIRP_dBW"
   ]
  },
  {
   "cell_type": "code",
   "execution_count": null,
   "metadata": {},
   "outputs": [],
   "source": []
  }
 ],
 "metadata": {
  "kernelspec": {
   "display_name": "Python 3",
   "language": "python",
   "name": "python3"
  },
  "language_info": {
   "codemirror_mode": {
    "name": "ipython",
    "version": 3
   },
   "file_extension": ".py",
   "mimetype": "text/x-python",
   "name": "python",
   "nbconvert_exporter": "python",
   "pygments_lexer": "ipython3",
   "version": "3.7.6"
  }
 },
 "nbformat": 4,
 "nbformat_minor": 2
}
